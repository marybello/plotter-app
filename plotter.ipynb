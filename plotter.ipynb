{
  "nbformat": 4,
  "nbformat_minor": 0,
  "metadata": {
    "colab": {
      "name": "plotter.ipynb",
      "provenance": [],
      "authorship_tag": "ABX9TyPN4aTIe5p017VchBh0D/di",
      "include_colab_link": true
    },
    "kernelspec": {
      "name": "python3",
      "display_name": "Python 3"
    },
    "accelerator": "GPU"
  },
  "cells": [
    {
      "cell_type": "markdown",
      "metadata": {
        "id": "view-in-github",
        "colab_type": "text"
      },
      "source": [
        "<a href=\"https://colab.research.google.com/github/marybello/plotter-app/blob/master/plotter.ipynb\" target=\"_parent\"><img src=\"https://colab.research.google.com/assets/colab-badge.svg\" alt=\"Open In Colab\"/></a>"
      ]
    },
    {
      "cell_type": "code",
      "metadata": {
        "id": "WIlrZ3UuamE-",
        "colab_type": "code",
        "colab": {
          "base_uri": "https://localhost:8080/",
          "height": 91
        },
        "outputId": "5d9f334c-c61f-4408-d339-c3427a628c4e"
      },
      "source": [
        "import numpy as np\n",
        "import pandas as pd\n",
        "import seaborn as sns\n",
        "import chart_studio.plotly as py\n",
        "import plotly.offline as po\n",
        "import cufflinks as cf\n",
        "%matplotlib inline\n"
      ],
      "execution_count": 51,
      "outputs": [
        {
          "output_type": "stream",
          "text": [
            "/usr/local/lib/python3.6/dist-packages/statsmodels/tools/_testing.py:19: FutureWarning:\n",
            "\n",
            "pandas.util.testing is deprecated. Use the functions in the public API at pandas.testing instead.\n",
            "\n"
          ],
          "name": "stderr"
        }
      ]
    },
    {
      "cell_type": "code",
      "metadata": {
        "id": "FRa9bwh4dvQM",
        "colab_type": "code",
        "colab": {
          "base_uri": "https://localhost:8080/",
          "height": 17
        },
        "outputId": "bdd1da10-56b2-47dc-94be-38f0839f9588"
      },
      "source": [
        "po.init_notebook_mode(connected=True)\n",
        "import plotly.io as pio\n",
        "pio.renderers.default = 'colab'\n",
        "from plotly.offline import init_notebook_mode, iplot"
      ],
      "execution_count": 33,
      "outputs": [
        {
          "output_type": "display_data",
          "data": {
            "text/html": [
              "        <script type=\"text/javascript\">\n",
              "        window.PlotlyConfig = {MathJaxConfig: 'local'};\n",
              "        if (window.MathJax) {MathJax.Hub.Config({SVG: {font: \"STIX-Web\"}});}\n",
              "        if (typeof require !== 'undefined') {\n",
              "        require.undef(\"plotly\");\n",
              "        requirejs.config({\n",
              "            paths: {\n",
              "                'plotly': ['https://cdn.plot.ly/plotly-latest.min']\n",
              "            }\n",
              "        });\n",
              "        require(['plotly'], function(Plotly) {\n",
              "            window._Plotly = Plotly;\n",
              "        });\n",
              "        }\n",
              "        </script>\n",
              "        "
            ]
          },
          "metadata": {
            "tags": []
          }
        }
      ]
    },
    {
      "cell_type": "code",
      "metadata": {
        "id": "XdduqFTpfDhN",
        "colab_type": "code",
        "colab": {}
      },
      "source": [
        "def Createdata(data):\n",
        "  if (data ==1):\n",
        "    x= np.random.rand(50,5)\n",
        "    df1= pd.DataFrame(x, columns=['A','B','C','D','E'])\n",
        "  elif (data ==2):\n",
        "    x =[0,0,0,0,0]\n",
        "    r1 =[0,0,0,0,0]\n",
        "    r2 =[0,0,0,0,0]\n",
        "    r3 = [0,0,0,0,0]\n",
        "    r4 = [0,0,0,0,0]\n",
        "    r5 = [0,0,0,0,0]\n",
        "    print('Enter the names of your columns')\n",
        "    i=0\n",
        "    while i < 5:\n",
        "      x[i] = input()\n",
        "      i = i+1\n",
        "    print('Enter the values for the first row')\n",
        "    i=0\n",
        "    while i < 5:\n",
        "      r1[i] = int(input())\n",
        "      i = i+1\n",
        "    print('Enter the values for the second  row')\n",
        "    i=0\n",
        "    while i < 5:\n",
        "      r2[i] = int(input())\n",
        "      i = i+1\n",
        "    print('Enter the values for the third row')\n",
        "    i=0\n",
        "    while i < 5:\n",
        "      r3[i] = int(input())\n",
        "      i = i+1\n",
        "    print('Enter the values for the fourth row')\n",
        "    i=0\n",
        "    while i < 5:\n",
        "      r4[i] = int(input())\n",
        "      i = i+1\n",
        "    print('Enter the value for the fifth row')\n",
        "    i=0\n",
        "    while i < 5:\n",
        "      r5[i] = int(input())\n",
        "      i = i+1\n",
        "    df1 = pd.DataFrame([r1,r2,r3,r4,r5], columns=x) \n",
        "  elif (data ==3):   \n",
        "    File = input('Enter the name of the file')\n",
        "    x = pd.read_csv(File)\n",
        "    df1= pd.DataFrame(x)\n",
        "  else:\n",
        "    print('Please enter a number between 1 to 3 to create a dataframe')  \n",
        "  return df1  \n",
        "\n"
      ],
      "execution_count": 3,
      "outputs": []
    },
    {
      "cell_type": "code",
      "metadata": {
        "id": "sp543FaIYmFj",
        "colab_type": "code",
        "colab": {}
      },
      "source": [
        "import matplotlib.pyplot as plt"
      ],
      "execution_count": 58,
      "outputs": []
    },
    {
      "cell_type": "code",
      "metadata": {
        "id": "1E-dxGtOhcMc",
        "colab_type": "code",
        "colab": {}
      },
      "source": [
        "def plotter(plot):\n",
        "  if (plot==1):\n",
        "    finalplot = df1.iplot(kind='scatter')\n",
        "  elif (plot==2): \n",
        "    finalplot = df1.iplot(kind='scatter', mode='markers')\n",
        "  elif (plot==3):\n",
        "    finalplot = df1.iplot(kind='bar')\n",
        "  elif (plot==4):\n",
        "    finalplot = df1.iplot(kind='hist')\n",
        "  elif (plot==5):\n",
        "    finalplot = df1.iplot(kind='surface')\n",
        "  elif (plot==6):\n",
        "    finalplot = df1.iplot(kind='box')\n",
        "  elif (plot==7):\n",
        "    plt.figure(figsize=(18,12))\n",
        "    finalplot = sns.heatmap(df1.corr(), annot=True, linewidths=1)  \n",
        "  else:\n",
        "    finalplot = print('Select values between 1 to 7')\n",
        "  return finalplot  \n"
      ],
      "execution_count": 59,
      "outputs": []
    },
    {
      "cell_type": "code",
      "metadata": {
        "id": "1B0e-bnlsTbI",
        "colab_type": "code",
        "colab": {}
      },
      "source": [
        "def plotter2(plot):\n",
        "  col= int(input('Enter the number of columns you want to plot by selecting on 1,2 or 3'))\n",
        "  if (col==1):\n",
        "    col_plot = input('Enter the column you want to plot by selecting any column from dataframe head')\n",
        "    if (plot==1):\n",
        "      finalplot = df1[col_plot].iplot(kind='scatter')\n",
        "    elif (plot==2):\n",
        "      finalplot = df1[col_plot].iplot(kind='scatter',mode='markers')\n",
        "    elif (plot==3):\n",
        "      finalplot = df1[col_plot].iplot(kind='bar')\n",
        "    elif (plot==4):\n",
        "      finalplot = df1[col_plot].iplot(kind='hist')\n",
        "    elif (plot==5):\n",
        "      finalplot = df1[col_plot].iplot(kind='box')\n",
        "    elif (plot==6):\n",
        "      finalplot = print('Surface plots require more than one column arguments')\n",
        "    else:\n",
        "      finalplot = print('please select values from only 1 to 7')\n",
        "  \n",
        "  elif (col==2):\n",
        "    print('Enter the columns you want to select')\n",
        "    x= input('First Column')\n",
        "    y = input('Second Column')\n",
        "    if (plot ==1):\n",
        "      finalplot = df1[x,y].iplot(kind='scatter')\n",
        "    elif (plot==2):\n",
        "      finalplot = df1[[x,y]].iplot(kind='scatter', mode='markers')\n",
        "    elif (plot==3):\n",
        "      finalplot = df1[[x,y]].iplot(kind='bar')\n",
        "    elif (plot==4):\n",
        "      finalplot = df1[[x,y]].iplot(kind='hist')\n",
        "    elif (plot==5):\n",
        "      finalplot = df1[[x,y]].iplot(kind='box')\n",
        "    elif (plot==6):\n",
        "      finalplot = df1[[x,y]].iplot(kind='surface')\n",
        "    else:\n",
        "      print('Please select a number from 1 to 7')\n",
        "  elif (col==3):\n",
        "    print('Enter the columns you want to select')\n",
        "    x= input('First Column')\n",
        "    y = input('Second Column')\n",
        "    z= input('Third Column')\n",
        "    if (plot ==1):\n",
        "      finalplot = df1[x,y,z].iplot(kind='scatter')\n",
        "    elif (plot==2):\n",
        "      finalplot = df1[[x,y,z]].iplot(kind='scatter', mode='markers')\n",
        "    elif (plot==3):\n",
        "      finalplot = df1[[x,y,z]].iplot(kind='bar')\n",
        "    elif (plot==4):\n",
        "      finalplot = df1[[x,y,z]].iplot(kind='hist')\n",
        "    elif (plot==5):\n",
        "      finalplot = df1[[x,y,z]].iplot(kind='box')\n",
        "    elif (plot==6):\n",
        "      finalplot = df1[[x,y,z]].iplot(kind='surface')\n",
        "    else:\n",
        "      finalplot = print('Please enter number from 1 to 7')\n",
        "  else:\n",
        "    finalplot= print('Please enter values from 1 to 3')\n",
        "  return finalplot\n"
      ],
      "execution_count": 43,
      "outputs": []
    },
    {
      "cell_type": "code",
      "metadata": {
        "id": "ap89_AlrhcJf",
        "colab_type": "code",
        "colab": {}
      },
      "source": [
        "def main(cat):\n",
        "  if (cat==1):\n",
        "    print('Select the kind of plot you want to your EDA from the options 1 to 6')\n",
        "    print('1.Line plot\\n2.Scatter plot\\n3.Bar plot\\n4.Histogram\\n5.surface\\n6.Box plot\\n7.Heatmap')\n",
        "    plot = int(input())\n",
        "    output = plotter(plot)\n",
        "  elif (cat==2):\n",
        "    print('Select the kind of plot you want')  \n",
        "    print('1.Line plot\\n2.Scatter plot\\n3.Bar plot\\n4.Histogram\\n5.Box plot\\n6.Surface plot')\n",
        "    plot = int(input())\n",
        "    output = plotter2(plot)\n",
        "  else:\n",
        "    print('please enter 1 or 2')  \n",
        "  return output  "
      ],
      "execution_count": 50,
      "outputs": []
    },
    {
      "cell_type": "code",
      "metadata": {
        "id": "bLBEoWq0hb03",
        "colab_type": "code",
        "colab": {
          "base_uri": "https://localhost:8080/",
          "height": 355
        },
        "outputId": "98421d39-e14f-4b31-8b4a-b8dae86996be"
      },
      "source": [
        "print('Select the type of data you need to plot by writing 1,2 or 3')\n",
        "print('1.Random data with 50 rows and 5 columns \\n2.Customize your Dataframe \\n3.Upload a csv or an excel file')\n",
        "data = int(input())\n",
        "df1 = Createdata(data)\n",
        "df1.head()"
      ],
      "execution_count": 49,
      "outputs": [
        {
          "output_type": "stream",
          "text": [
            "Select the type of data you need to plot by writing 1,2 or 3\n",
            "1.Random data with 50 rows and 5 columns \n",
            "2.Customize your Dataframe \n",
            "3.Upload a csv or an excel file\n",
            "3\n",
            "Enter the name of the filemedical.csv\n"
          ],
          "name": "stdout"
        },
        {
          "output_type": "execute_result",
          "data": {
            "text/html": [
              "<div>\n",
              "<style scoped>\n",
              "    .dataframe tbody tr th:only-of-type {\n",
              "        vertical-align: middle;\n",
              "    }\n",
              "\n",
              "    .dataframe tbody tr th {\n",
              "        vertical-align: top;\n",
              "    }\n",
              "\n",
              "    .dataframe thead th {\n",
              "        text-align: right;\n",
              "    }\n",
              "</style>\n",
              "<table border=\"1\" class=\"dataframe\">\n",
              "  <thead>\n",
              "    <tr style=\"text-align: right;\">\n",
              "      <th></th>\n",
              "      <th>Unnamed: 0</th>\n",
              "      <th>id</th>\n",
              "      <th>age</th>\n",
              "      <th>gender</th>\n",
              "      <th>height</th>\n",
              "      <th>weight</th>\n",
              "      <th>ap_hi</th>\n",
              "      <th>ap_lo</th>\n",
              "      <th>cholesterol</th>\n",
              "      <th>gluc</th>\n",
              "      <th>smoke</th>\n",
              "      <th>alco</th>\n",
              "      <th>active</th>\n",
              "      <th>cardio</th>\n",
              "      <th>Unnamed: 14</th>\n",
              "    </tr>\n",
              "  </thead>\n",
              "  <tbody>\n",
              "    <tr>\n",
              "      <th>0</th>\n",
              "      <td></td>\n",
              "      <td>0</td>\n",
              "      <td>18393</td>\n",
              "      <td>2</td>\n",
              "      <td>168</td>\n",
              "      <td>62.0</td>\n",
              "      <td>110</td>\n",
              "      <td>80</td>\n",
              "      <td>1</td>\n",
              "      <td>1</td>\n",
              "      <td>0</td>\n",
              "      <td>0</td>\n",
              "      <td>1</td>\n",
              "      <td>0</td>\n",
              "      <td>NaN</td>\n",
              "    </tr>\n",
              "    <tr>\n",
              "      <th>1</th>\n",
              "      <td></td>\n",
              "      <td>1</td>\n",
              "      <td>20228</td>\n",
              "      <td>1</td>\n",
              "      <td>156</td>\n",
              "      <td>85.0</td>\n",
              "      <td>140</td>\n",
              "      <td>90</td>\n",
              "      <td>3</td>\n",
              "      <td>1</td>\n",
              "      <td>0</td>\n",
              "      <td>0</td>\n",
              "      <td>1</td>\n",
              "      <td>1</td>\n",
              "      <td>NaN</td>\n",
              "    </tr>\n",
              "    <tr>\n",
              "      <th>2</th>\n",
              "      <td></td>\n",
              "      <td>2</td>\n",
              "      <td>18857</td>\n",
              "      <td>1</td>\n",
              "      <td>165</td>\n",
              "      <td>64.0</td>\n",
              "      <td>130</td>\n",
              "      <td>70</td>\n",
              "      <td>3</td>\n",
              "      <td>1</td>\n",
              "      <td>0</td>\n",
              "      <td>0</td>\n",
              "      <td>0</td>\n",
              "      <td>1</td>\n",
              "      <td>NaN</td>\n",
              "    </tr>\n",
              "    <tr>\n",
              "      <th>3</th>\n",
              "      <td></td>\n",
              "      <td>3</td>\n",
              "      <td>17623</td>\n",
              "      <td>2</td>\n",
              "      <td>169</td>\n",
              "      <td>82.0</td>\n",
              "      <td>150</td>\n",
              "      <td>100</td>\n",
              "      <td>1</td>\n",
              "      <td>1</td>\n",
              "      <td>0</td>\n",
              "      <td>0</td>\n",
              "      <td>1</td>\n",
              "      <td>1</td>\n",
              "      <td>NaN</td>\n",
              "    </tr>\n",
              "    <tr>\n",
              "      <th>4</th>\n",
              "      <td></td>\n",
              "      <td>4</td>\n",
              "      <td>17474</td>\n",
              "      <td>1</td>\n",
              "      <td>156</td>\n",
              "      <td>56.0</td>\n",
              "      <td>100</td>\n",
              "      <td>60</td>\n",
              "      <td>1</td>\n",
              "      <td>1</td>\n",
              "      <td>0</td>\n",
              "      <td>0</td>\n",
              "      <td>0</td>\n",
              "      <td>0</td>\n",
              "      <td>NaN</td>\n",
              "    </tr>\n",
              "  </tbody>\n",
              "</table>\n",
              "</div>"
            ],
            "text/plain": [
              "  Unnamed: 0  id    age  gender  ...  alco  active  cardio  Unnamed: 14\n",
              "0              0  18393       2  ...     0       1       0          NaN\n",
              "1              1  20228       1  ...     0       1       1          NaN\n",
              "2              2  18857       1  ...     0       0       1          NaN\n",
              "3              3  17623       2  ...     0       1       1          NaN\n",
              "4              4  17474       1  ...     0       0       0          NaN\n",
              "\n",
              "[5 rows x 15 columns]"
            ]
          },
          "metadata": {
            "tags": []
          },
          "execution_count": 49
        }
      ]
    },
    {
      "cell_type": "code",
      "metadata": {
        "id": "M3TyRqa4hbpr",
        "colab_type": "code",
        "colab": {
          "base_uri": "https://localhost:8080/",
          "height": 505
        },
        "outputId": "a60a59ad-c0d8-4692-f2a3-83801f5eb313"
      },
      "source": [
        "print('Your Dataframe head is given below, check the values below ')\n",
        "df1.head()"
      ],
      "execution_count": 46,
      "outputs": [
        {
          "output_type": "stream",
          "text": [
            "Your Dataframe head is given below, check the values below \n"
          ],
          "name": "stdout"
        },
        {
          "output_type": "execute_result",
          "data": {
            "text/html": [
              "<div>\n",
              "<style scoped>\n",
              "    .dataframe tbody tr th:only-of-type {\n",
              "        vertical-align: middle;\n",
              "    }\n",
              "\n",
              "    .dataframe tbody tr th {\n",
              "        vertical-align: top;\n",
              "    }\n",
              "\n",
              "    .dataframe thead th {\n",
              "        text-align: right;\n",
              "    }\n",
              "</style>\n",
              "<table border=\"1\" class=\"dataframe\">\n",
              "  <thead>\n",
              "    <tr style=\"text-align: right;\">\n",
              "      <th></th>\n",
              "      <th>code</th>\n",
              "      <th>state</th>\n",
              "      <th>category</th>\n",
              "      <th>total exports</th>\n",
              "      <th>beef</th>\n",
              "      <th>pork</th>\n",
              "      <th>poultry</th>\n",
              "      <th>dairy</th>\n",
              "      <th>fruits fresh</th>\n",
              "      <th>fruits proc</th>\n",
              "      <th>total fruits</th>\n",
              "      <th>veggies fresh</th>\n",
              "      <th>veggies proc</th>\n",
              "      <th>total veggies</th>\n",
              "      <th>corn</th>\n",
              "      <th>wheat</th>\n",
              "      <th>cotton</th>\n",
              "      <th>text</th>\n",
              "    </tr>\n",
              "  </thead>\n",
              "  <tbody>\n",
              "    <tr>\n",
              "      <th>0</th>\n",
              "      <td>AL</td>\n",
              "      <td>Alabama</td>\n",
              "      <td>state</td>\n",
              "      <td>1390.63</td>\n",
              "      <td>34.4</td>\n",
              "      <td>10.6</td>\n",
              "      <td>481.0</td>\n",
              "      <td>4.06</td>\n",
              "      <td>8.0</td>\n",
              "      <td>17.1</td>\n",
              "      <td>25.11</td>\n",
              "      <td>5.5</td>\n",
              "      <td>8.9</td>\n",
              "      <td>14.33</td>\n",
              "      <td>34.9</td>\n",
              "      <td>70.0</td>\n",
              "      <td>317.61</td>\n",
              "      <td>Alabama&lt;br&gt;Beef 34.4 Dairy 4.06&lt;br&gt;Fruits 25.1...</td>\n",
              "    </tr>\n",
              "    <tr>\n",
              "      <th>1</th>\n",
              "      <td>AK</td>\n",
              "      <td>Alaska</td>\n",
              "      <td>state</td>\n",
              "      <td>13.31</td>\n",
              "      <td>0.2</td>\n",
              "      <td>0.1</td>\n",
              "      <td>0.0</td>\n",
              "      <td>0.19</td>\n",
              "      <td>0.0</td>\n",
              "      <td>0.0</td>\n",
              "      <td>0.00</td>\n",
              "      <td>0.6</td>\n",
              "      <td>1.0</td>\n",
              "      <td>1.56</td>\n",
              "      <td>0.0</td>\n",
              "      <td>0.0</td>\n",
              "      <td>0.00</td>\n",
              "      <td>Alaska&lt;br&gt;Beef 0.2 Dairy 0.19&lt;br&gt;Fruits 0.0 Ve...</td>\n",
              "    </tr>\n",
              "    <tr>\n",
              "      <th>2</th>\n",
              "      <td>AZ</td>\n",
              "      <td>Arizona</td>\n",
              "      <td>state</td>\n",
              "      <td>1463.17</td>\n",
              "      <td>71.3</td>\n",
              "      <td>17.9</td>\n",
              "      <td>0.0</td>\n",
              "      <td>105.48</td>\n",
              "      <td>19.3</td>\n",
              "      <td>41.0</td>\n",
              "      <td>60.27</td>\n",
              "      <td>147.5</td>\n",
              "      <td>239.4</td>\n",
              "      <td>386.91</td>\n",
              "      <td>7.3</td>\n",
              "      <td>48.7</td>\n",
              "      <td>423.95</td>\n",
              "      <td>Arizona&lt;br&gt;Beef 71.3 Dairy 105.48&lt;br&gt;Fruits 60...</td>\n",
              "    </tr>\n",
              "    <tr>\n",
              "      <th>3</th>\n",
              "      <td>AR</td>\n",
              "      <td>Arkansas</td>\n",
              "      <td>state</td>\n",
              "      <td>3586.02</td>\n",
              "      <td>53.2</td>\n",
              "      <td>29.4</td>\n",
              "      <td>562.9</td>\n",
              "      <td>3.53</td>\n",
              "      <td>2.2</td>\n",
              "      <td>4.7</td>\n",
              "      <td>6.88</td>\n",
              "      <td>4.4</td>\n",
              "      <td>7.1</td>\n",
              "      <td>11.45</td>\n",
              "      <td>69.5</td>\n",
              "      <td>114.5</td>\n",
              "      <td>665.44</td>\n",
              "      <td>Arkansas&lt;br&gt;Beef 53.2 Dairy 3.53&lt;br&gt;Fruits 6.8...</td>\n",
              "    </tr>\n",
              "    <tr>\n",
              "      <th>4</th>\n",
              "      <td>CA</td>\n",
              "      <td>California</td>\n",
              "      <td>state</td>\n",
              "      <td>16472.88</td>\n",
              "      <td>228.7</td>\n",
              "      <td>11.1</td>\n",
              "      <td>225.4</td>\n",
              "      <td>929.95</td>\n",
              "      <td>2791.8</td>\n",
              "      <td>5944.6</td>\n",
              "      <td>8736.40</td>\n",
              "      <td>803.2</td>\n",
              "      <td>1303.5</td>\n",
              "      <td>2106.79</td>\n",
              "      <td>34.6</td>\n",
              "      <td>249.3</td>\n",
              "      <td>1064.95</td>\n",
              "      <td>California&lt;br&gt;Beef 228.7 Dairy 929.95&lt;br&gt;Frui...</td>\n",
              "    </tr>\n",
              "  </tbody>\n",
              "</table>\n",
              "</div>"
            ],
            "text/plain": [
              "  code        state  ...   cotton                                               text\n",
              "0   AL      Alabama  ...   317.61  Alabama<br>Beef 34.4 Dairy 4.06<br>Fruits 25.1...\n",
              "1   AK       Alaska  ...     0.00  Alaska<br>Beef 0.2 Dairy 0.19<br>Fruits 0.0 Ve...\n",
              "2   AZ      Arizona  ...   423.95  Arizona<br>Beef 71.3 Dairy 105.48<br>Fruits 60...\n",
              "3   AR     Arkansas  ...   665.44  Arkansas<br>Beef 53.2 Dairy 3.53<br>Fruits 6.8...\n",
              "4   CA   California  ...  1064.95   California<br>Beef 228.7 Dairy 929.95<br>Frui...\n",
              "\n",
              "[5 rows x 18 columns]"
            ]
          },
          "metadata": {
            "tags": []
          },
          "execution_count": 46
        }
      ]
    },
    {
      "cell_type": "code",
      "metadata": {
        "id": "ACtCWLiOhbXL",
        "colab_type": "code",
        "colab": {
          "base_uri": "https://localhost:8080/",
          "height": 876
        },
        "outputId": "b8140383-d6a7-4508-ec5f-152ade7699c5"
      },
      "source": [
        "print('Do you want a full data plot or Columns plot?')\n",
        "cat = int(input('Press 1 for full data or 2 for specific columns \\n'))\n",
        "main(cat)"
      ],
      "execution_count": 60,
      "outputs": [
        {
          "output_type": "stream",
          "text": [
            "Do you want a full data plot or Columns plot?\n",
            "Press 1 for full data or 2 for specific columns \n",
            "1\n",
            "Select the kind of plot you want to your EDA from the options 1 to 6\n",
            "1.Line plot\n",
            "2.Scatter plot\n",
            "3.Bar plot\n",
            "4.Histogram\n",
            "5.surface\n",
            "6.Box plot\n",
            "7.Heatmap\n",
            "7\n"
          ],
          "name": "stdout"
        },
        {
          "output_type": "execute_result",
          "data": {
            "text/plain": [
              "<matplotlib.axes._subplots.AxesSubplot at 0x7fc8a645d128>"
            ]
          },
          "metadata": {
            "tags": []
          },
          "execution_count": 60
        },
        {
          "output_type": "display_data",
          "data": {
            "image/png": "[encoded data removed]",
            "text/plain": [
              "<Figure size 1296x864 with 2 Axes>"
            ]
          },
          "metadata": {
            "tags": [],
            "needs_background": "light"
          }
        }
      ]
    },
    {
      "cell_type": "code",
      "metadata": {
        "id": "_mX2VyTmqlRg",
        "colab_type": "code",
        "colab": {
          "base_uri": "https://localhost:8080/",
          "height": 277
        },
        "outputId": "1fee9d4e-f247-47ee-a5e2-0130f38c5370"
      },
      "source": [
        "!pip install chart_studio"
      ],
      "execution_count": 24,
      "outputs": [
        {
          "output_type": "stream",
          "text": [
            "Collecting chart_studio\n",
            "\u001b[?25l  Downloading https://files.pythonhosted.org/packages/ca/ce/330794a6b6ca4b9182c38fc69dd2a9cbff60fd49421cb8648ee5fee352dc/chart_studio-1.1.0-py3-none-any.whl (64kB)\n",
            "\r\u001b[K     |█████                           | 10kB 21.8MB/s eta 0:00:01\r\u001b[K     |██████████▏                     | 20kB 2.2MB/s eta 0:00:01\r\u001b[K     |███████████████▎                | 30kB 3.2MB/s eta 0:00:01\r\u001b[K     |████████████████████▍           | 40kB 4.2MB/s eta 0:00:01\r\u001b[K     |█████████████████████████▍      | 51kB 2.7MB/s eta 0:00:01\r\u001b[K     |██████████████████████████████▌ | 61kB 3.1MB/s eta 0:00:01\r\u001b[K     |████████████████████████████████| 71kB 2.7MB/s \n",
            "\u001b[?25hRequirement already satisfied: plotly in /usr/local/lib/python3.6/dist-packages (from chart_studio) (4.4.1)\n",
            "Requirement already satisfied: retrying>=1.3.3 in /usr/local/lib/python3.6/dist-packages (from chart_studio) (1.3.3)\n",
            "Requirement already satisfied: requests in /usr/local/lib/python3.6/dist-packages (from chart_studio) (2.23.0)\n",
            "Requirement already satisfied: six in /usr/local/lib/python3.6/dist-packages (from chart_studio) (1.15.0)\n",
            "Requirement already satisfied: chardet<4,>=3.0.2 in /usr/local/lib/python3.6/dist-packages (from requests->chart_studio) (3.0.4)\n",
            "Requirement already satisfied: certifi>=2017.4.17 in /usr/local/lib/python3.6/dist-packages (from requests->chart_studio) (2020.6.20)\n",
            "Requirement already satisfied: urllib3!=1.25.0,!=1.25.1,<1.26,>=1.21.1 in /usr/local/lib/python3.6/dist-packages (from requests->chart_studio) (1.24.3)\n",
            "Requirement already satisfied: idna<3,>=2.5 in /usr/local/lib/python3.6/dist-packages (from requests->chart_studio) (2.10)\n",
            "Installing collected packages: chart-studio\n",
            "Successfully installed chart-studio-1.1.0\n"
          ],
          "name": "stdout"
        }
      ]
    },
    {
      "cell_type": "code",
      "metadata": {
        "id": "HXsDuOqKqlAC",
        "colab_type": "code",
        "colab": {}
      },
      "source": [
        ""
      ],
      "execution_count": null,
      "outputs": []
    }
  ]
}